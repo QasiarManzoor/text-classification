{
 "cells": [
  {
   "cell_type": "code",
   "execution_count": null,
   "id": "fe145524-bd29-4432-ba38-ab20e4c87bd0",
   "metadata": {},
   "outputs": [],
   "source": [
    "import pandas as pd\n",
    "import numpy as np\n",
    "import re\n",
    "import spacy\n",
    "import string\n",
    "from sklearn.feature_extraction.text import TfidfVectorizer\n",
    "from sklearn.model_selection import train_test_split\n",
    "from sklearn.naive_bayes import MultinomialNB\n",
    "from sklearn.ensemble import RandomForestClassifier\n",
    "from sklearn.svm import SVC\n",
    "from sklearn.tree import DecisionTreeClassifier\n",
    "from sklearn.metrics import classification_report, f1_score, precision_score, recall_score"
   ]
  },
  {
   "cell_type": "code",
   "execution_count": null,
   "id": "8a8a9e7d-c4bf-4cff-ae44-f38f8996d4e1",
   "metadata": {},
   "outputs": [],
   "source": [
    "# Load spaCy model\n",
    "nlp = spacy.load(\"en_core_web_sm\")\n",
    "\n",
    "# Load dataset\n",
    "df = pd.read_excel(\"/mnt/data/awaise author data set origional - Copy.xlsx\")\n",
    "\n",
    "def preprocess_text(text):\n",
    "    text = text.lower()\n",
    "    text = re.sub(f\"[{string.punctuation}]\", \"\", text)  # Remove punctuation\n",
    "    doc = nlp(text)\n",
    "    tokens = [token.lemma_ for token in doc if not token.is_stop]  # Remove stopwords & lemmatization\n",
    "    return \" \".join(tokens)"
   ]
  },
  {
   "cell_type": "code",
   "execution_count": null,
   "id": "a39367df-3e0d-4b01-b980-e6dc716df039",
   "metadata": {},
   "outputs": [],
   "source": [
    "# Apply preprocessing\n",
    "df['processed_text'] = df['sentence'].astype(str).apply(preprocess_text)\n",
    "\n",
    "# Vectorization\n",
    "vectorizer = TfidfVectorizer()\n",
    "X = vectorizer.fit_transform(df['processed_text'])\n",
    "y = df['ground polarity']  # Assuming 'ground polarity' is the target label\n",
    "\n",
    "# Train-test split\n",
    "X_train, X_test, y_train, y_test = train_test_split(X, y, test_size=0.2, random_state=42)"
   ]
  },
  {
   "cell_type": "code",
   "execution_count": null,
   "id": "5bda0b76-f554-4b23-8d75-399fdbae875e",
   "metadata": {},
   "outputs": [],
   "source": [
    " # Model training and evaluation\n",
    "def train_and_evaluate(model, model_name):\n",
    "    model.fit(X_train, y_train)\n",
    "    y_pred = model.predict(X_test)\n",
    "    macro_f1 = f1_score(y_test, y_pred, average='macro')\n",
    "    precision = precision_score(y_test, y_pred, average='macro')\n",
    "    recall = recall_score(y_test, y_pred, average='macro')\n",
    "    \n",
    "    print(f\"Results for {model_name}:\")\n",
    "    print(classification_report(y_test, y_pred))\n",
    "    print(f\"Macro F1 Score: {macro_f1}\")\n",
    "    print(f\"Precision: {precision}\")\n",
    "    print(f\"Recall: {recall}\\n\")\n",
    "    \n",
    "    return {\"Model\": model_name, \"Macro F1 Score\": macro_f1, \"Precision\": precision, \"Recall\": recall}\n"
   ]
  },
  {
   "cell_type": "code",
   "execution_count": null,
   "id": "0bf9d817-0f90-4115-8bac-097e5b8bb3dc",
   "metadata": {},
   "outputs": [],
   "source": [
    "\n",
    "\n",
    "\n",
    "# Store results\n",
    "results = []\n",
    "\n",
    "# Naïve Bayes\n",
    "nb_model = MultinomialNB()\n",
    "results.append(train_and_evaluate(nb_model, \"Naïve Bayes\"))\n",
    "\n",
    "# Random Forest\n",
    "rf_model = RandomForestClassifier(n_estimators=100, random_state=42)\n",
    "results.append(train_and_evaluate(rf_model, \"Random Forest\"))\n",
    "\n",
    "# J48 (Decision Tree)\n",
    "dt_model = DecisionTreeClassifier()\n",
    "results.append(train_and_evaluate(dt_model, \"J48 (Decision Tree)\"))\n",
    "\n",
    "# SVM\n",
    "svm_model = SVC(kernel='linear')\n",
    "results.append(train_and_evaluate(svm_model, \"Support Vector Machine\"))\n",
    "\n",
    "# Convert results to DataFrame and display\n",
    "results_df = pd.DataFrame(results)\n",
    "print(results_df)"
   ]
  }
 ],
 "metadata": {
  "kernelspec": {
   "display_name": "Python [conda env:base] *",
   "language": "python",
   "name": "conda-base-py"
  },
  "language_info": {
   "codemirror_mode": {
    "name": "ipython",
    "version": 3
   },
   "file_extension": ".py",
   "mimetype": "text/x-python",
   "name": "python",
   "nbconvert_exporter": "python",
   "pygments_lexer": "ipython3",
   "version": "3.12.7"
  }
 },
 "nbformat": 4,
 "nbformat_minor": 5
}
